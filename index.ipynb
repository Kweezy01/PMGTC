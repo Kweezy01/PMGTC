{
 "cells": [
  {
   "cell_type": "code",
   "execution_count": null,
   "metadata": {},
   "outputs": [],
   "source": [
    "import pandas as pd"
   ]
  },
  {
   "cell_type": "code",
   "execution_count": null,
   "metadata": {},
   "outputs": [],
   "source": [
    "df = pd.concat(map(pd.read_csv, ['./ford.csv', './mazda.csv', './prod.csv', './suzu.csv', './mala.csv']))\\\n",
    "[[\"Stock Number\", \"Make\", \"Model\", \"Specification\", \"Colour\", \"Registration Date\", \"VIN\", \"Odometer\", \"Internet Price\"]]"
   ]
  },
  {
   "cell_type": "code",
   "execution_count": null,
   "metadata": {},
   "outputs": [],
   "source": [
    "ford = df[df['Stock Number'].str.contains('UF')]\n",
    "ford.set_index('Stock Number', inplace=True)\n",
    "ford.to_csv('PDford.csv')\n",
    "\n",
    "mazda = df[df['Stock Number'].str.contains('UG')]\n",
    "mazda.set_index('Stock Number', inplace=True)\n",
    "mazda.to_csv('PDmazda.csv')\n",
    "\n",
    "prod = df[df['Stock Number'].str.contains('UA')]\n",
    "prod.set_index('Stock Number', inplace=True)\n",
    "prod.to_csv('PDprod.csv')\n",
    "\n",
    "suzu = df[df['Stock Number'].str.contains('UE')]\n",
    "suzu.set_index('Stock Number', inplace=True)\n",
    "suzu.to_csv('PDsuzu.csv')\n",
    "\n",
    "mala = df[df['Stock Number'].str.contains('US')]\n",
    "mala.set_index('Stock Number', inplace=True)\n",
    "mala.to_csv('PDmala.csv')"
   ]
  }
 ],
 "metadata": {
  "kernelspec": {
   "display_name": "Python 3",
   "language": "python",
   "name": "python3"
  },
  "language_info": {
   "codemirror_mode": {
    "name": "ipython",
    "version": 3
   },
   "file_extension": ".py",
   "mimetype": "text/x-python",
   "name": "python",
   "nbconvert_exporter": "python",
   "pygments_lexer": "ipython3",
   "version": "3.10.13"
  }
 },
 "nbformat": 4,
 "nbformat_minor": 2
}
